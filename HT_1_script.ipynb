{
 "cells": [
  {
   "cell_type": "markdown",
   "metadata": {},
   "source": [
    "## Урок 1. Алгоритм линейной регрессии. Градиентный спуск"
   ]
  },
  {
   "cell_type": "code",
   "execution_count": 34,
   "metadata": {
    "colab": {},
    "colab_type": "code",
    "id": "ak8b3KV45kVW"
   },
   "outputs": [],
   "source": [
    "import numpy as np\n",
    "import matplotlib.pyplot as plt"
   ]
  },
  {
   "cell_type": "code",
   "execution_count": 35,
   "metadata": {
    "colab": {},
    "colab_type": "code",
    "id": "i77tZbAd5plB"
   },
   "outputs": [
    {
     "data": {
      "text/plain": [
       "array([[ 1,  1,  1,  1,  1,  1,  1,  1,  1,  1],\n",
       "       [ 1,  1,  2,  5,  3,  0,  5, 10,  1,  2]])"
      ]
     },
     "execution_count": 35,
     "metadata": {},
     "output_type": "execute_result"
    }
   ],
   "source": [
    "X = np.array([[1, 1, 1, 1, 1, 1, 1, 1, 1, 1],\n",
    "              [1, 1, 2, 5, 3, 0, 5, 10, 1, 2]])\n",
    "X"
   ]
  },
  {
   "cell_type": "code",
   "execution_count": 36,
   "metadata": {
    "colab": {},
    "colab_type": "code",
    "id": "VsNrKi1Q6Wmh"
   },
   "outputs": [],
   "source": [
    "y = [45, 55, 50, 55, 60, 35, 75, 80, 50, 60]"
   ]
  },
  {
   "cell_type": "code",
   "execution_count": 37,
   "metadata": {},
   "outputs": [
    {
     "data": {
      "text/plain": [
       "array([[ 1,  1],\n",
       "       [ 1,  1],\n",
       "       [ 1,  2],\n",
       "       [ 1,  5],\n",
       "       [ 1,  3],\n",
       "       [ 1,  0],\n",
       "       [ 1,  5],\n",
       "       [ 1, 10],\n",
       "       [ 1,  1],\n",
       "       [ 1,  2]])"
      ]
     },
     "execution_count": 37,
     "metadata": {},
     "output_type": "execute_result"
    }
   ],
   "source": [
    "X.T"
   ]
  },
  {
   "cell_type": "code",
   "execution_count": 38,
   "metadata": {
    "colab": {
     "base_uri": "https://localhost:8080/",
     "height": 34
    },
    "colab_type": "code",
    "id": "mnyZzkaDBegD",
    "outputId": "368800a6-deef-46d0-b27f-d6eb5e46a743"
   },
   "outputs": [
    {
     "data": {
      "text/plain": [
       "array([45.0625,  3.8125])"
      ]
     },
     "execution_count": 38,
     "metadata": {},
     "output_type": "execute_result"
    }
   ],
   "source": [
    "W = np.linalg.inv(np.dot(X, X.T)) @ X @ y\n",
    "W"
   ]
  },
  {
   "cell_type": "code",
   "execution_count": 39,
   "metadata": {},
   "outputs": [
    {
     "data": {
      "text/plain": [
       "array([45.0625,  3.8125])"
      ]
     },
     "execution_count": 39,
     "metadata": {},
     "output_type": "execute_result"
    }
   ],
   "source": [
    "W"
   ]
  },
  {
   "cell_type": "code",
   "execution_count": 40,
   "metadata": {
    "colab": {},
    "colab_type": "code",
    "id": "JTSC2cFnCd8T"
   },
   "outputs": [],
   "source": [
    "def calc_mae(y, y_pred):\n",
    "    err = np.mean(np.abs(y - y_pred))\n",
    "    return err\n",
    "\n",
    "def calc_mse(y, y_pred):\n",
    "    err = np.mean((y - y_pred)**2) # <=> 1/n * np.sum((y_pred - y)**2)\n",
    "    return err"
   ]
  },
  {
   "cell_type": "markdown",
   "metadata": {},
   "source": []
  },
  {
   "cell_type": "markdown",
   "metadata": {
    "colab_type": "text",
    "id": "huXrhXQsZTMt"
   },
   "source": [
    "1. Подберем скорость обучения (alpha) и количество итераций"
   ]
  },
  {
   "cell_type": "markdown",
   "metadata": {},
   "source": [
    "Была идея подобрать альфа обратно пропорционально количеству итераций, но в результате, простой подбор гораздо лучше показывает результат"
   ]
  },
  {
   "cell_type": "code",
   "execution_count": 43,
   "metadata": {},
   "outputs": [
    {
     "data": {
      "text/plain": [
       "2"
      ]
     },
     "execution_count": 43,
     "metadata": {},
     "output_type": "execute_result"
    }
   ],
   "source": [
    "W = np.array([1, 0.5])\n",
    "W.shape[0]"
   ]
  },
  {
   "cell_type": "code",
   "execution_count": 44,
   "metadata": {},
   "outputs": [
    {
     "data": {
      "text/plain": [
       "array([1. , 0.5])"
      ]
     },
     "execution_count": 44,
     "metadata": {},
     "output_type": "execute_result"
    }
   ],
   "source": [
    "W"
   ]
  },
  {
   "cell_type": "code",
   "execution_count": 45,
   "metadata": {},
   "outputs": [
    {
     "data": {
      "text/plain": [
       "[45, 55, 50, 55, 60, 35, 75, 80, 50, 60]"
      ]
     },
     "execution_count": 45,
     "metadata": {},
     "output_type": "execute_result"
    }
   ],
   "source": [
    "y"
   ]
  },
  {
   "cell_type": "code",
   "execution_count": 46,
   "metadata": {},
   "outputs": [
    {
     "data": {
      "text/plain": [
       "2"
      ]
     },
     "execution_count": 46,
     "metadata": {},
     "output_type": "execute_result"
    }
   ],
   "source": [
    "W.shape[0]"
   ]
  },
  {
   "cell_type": "code",
   "execution_count": 47,
   "metadata": {},
   "outputs": [
    {
     "data": {
      "text/plain": [
       "array([[ 1,  1,  1,  1,  1,  1,  1,  1,  1,  1],\n",
       "       [ 1,  1,  2,  5,  3,  0,  5, 10,  1,  2]])"
      ]
     },
     "execution_count": 47,
     "metadata": {},
     "output_type": "execute_result"
    }
   ],
   "source": [
    "X"
   ]
  },
  {
   "cell_type": "code",
   "execution_count": 48,
   "metadata": {
    "colab": {
     "base_uri": "https://localhost:8080/",
     "height": 185
    },
    "colab_type": "code",
    "id": "IDB22MQKMYaJ",
    "outputId": "4c03219e-a57c-4583-f439-6699fd0619bb"
   },
   "outputs": [
    {
     "name": "stdout",
     "output_type": "stream",
     "text": [
      "Number of objects = 10        \n",
      "Learning rate = 0.05        \n",
      "Initial weights = [1.  0.5] \n",
      "\n",
      "Iteration #10: W_new = [18.55865432  7.9437319 ], MSE = 417.54\n",
      "\n",
      "Iteration #20: W_new = [28.51033319  6.77368864], MSE = 185.56\n",
      "\n",
      "Iteration #30: W_new = [34.6873853   5.69146143], MSE = 99.62\n",
      "\n",
      "Iteration #40: W_new = [38.55696644  4.99203458], MSE = 65.85\n",
      "\n",
      "Iteration #50: W_new = [40.98318343  4.55221259], MSE = 52.57\n",
      "\n",
      "Iteration #60: W_new = [42.50454279  4.27634559], MSE = 47.35\n",
      "\n",
      "Iteration #70: W_new = [43.4585188   4.10335723], MSE = 45.3\n",
      "\n",
      "Iteration #80: W_new = [44.0567147   3.99488365], MSE = 44.49\n",
      "\n",
      "Iteration #90: W_new = [44.43181676  3.92686468], MSE = 44.17\n",
      "\n"
     ]
    }
   ],
   "source": [
    "n = X.shape[1]\n",
    "alpha = 5e-2  #скорость обучения 0.05\n",
    "W = np.array([1, 0.5])\n",
    "print(f'Number of objects = {n} \\\n",
    "       \\nLearning rate = {alpha} \\\n",
    "       \\nInitial weights = {W} \\n')\n",
    "\n",
    "for i in range(1, 100):\n",
    "    y_pred = np.dot(W, X) #умножаем к-ты на весь массив - единички на \n",
    "    err = calc_mse(y, y_pred)\n",
    "    for k in range(W.shape[0]): # это и есть веса 1 - intercept  и 2 \n",
    "        W[k] -= alpha * (1/n * 2 * np.sum(X[k] * (y_pred - y)))\n",
    "    if i % 10 == 0: #печатаем каждую десятую итерацию \n",
    "        print(f'Iteration #{i}: W_new = {W}, MSE = {round(err,2)}')\n",
    "        print ('')"
   ]
  },
  {
   "cell_type": "markdown",
   "metadata": {
    "colab_type": "text",
    "id": "5Qu1o4JhZYwI"
   },
   "source": [
    "*2. В этом коде мы избавляемся от итераций по весам"
   ]
  },
  {
   "cell_type": "code",
   "execution_count": 49,
   "metadata": {
    "colab": {},
    "colab_type": "code",
    "id": "kGLyytFgHdco"
   },
   "outputs": [
    {
     "name": "stdout",
     "output_type": "stream",
     "text": [
      "Number of objects = 10        \n",
      "Learning rate = 0.05        \n",
      "Initial weights = [1.  0.5] \n",
      "\n",
      "Iteration #0: W_new = [ 6.4  19.35], MSE = 3047.75\n",
      "Iteration #10: W_new = [19.96966932  8.87179137], MSE = 379.6\n",
      "Iteration #20: W_new = [29.27719328  6.70531799], MSE = 172.93\n",
      "Iteration #30: W_new = [35.16120834  5.60976141], MSE = 94.66\n",
      "Iteration #40: W_new = [38.85365942  4.93848587], MSE = 63.9\n",
      "Iteration #50: W_new = [41.16920131  4.51849616], MSE = 51.81\n",
      "Iteration #60: W_new = [42.62118483  4.25519525], MSE = 47.05\n",
      "Iteration #70: W_new = [43.53165976  4.0900943 ], MSE = 45.18\n",
      "Iteration #80: W_new = [44.10257814  3.98656703], MSE = 44.45\n",
      "Iteration #90: W_new = [44.46057568  3.9216497 ], MSE = 44.16\n"
     ]
    }
   ],
   "source": [
    "n = X.shape[1]\n",
    "alpha = 5e-2\n",
    "W = np.array([1, 0.5])\n",
    "print(f'Number of objects = {n} \\\n",
    "       \\nLearning rate = {alpha} \\\n",
    "       \\nInitial weights = {W} \\n')\n",
    "\n",
    "#исправить ошибку \n",
    "for i in range(100):\n",
    "    y_pred = np.dot(W, X)\n",
    "    err = calc_mse(y, y_pred)\n",
    "    W -= alpha * (1/n * 2 * X.dot (y_pred - y))\n",
    "    if i % 10 == 0:\n",
    "        print(f'Iteration #{i}: W_new = {W}, MSE = {round(err,2)}')"
   ]
  },
  {
   "cell_type": "code",
   "execution_count": null,
   "metadata": {},
   "outputs": [],
   "source": []
  }
 ],
 "metadata": {
  "colab": {
   "collapsed_sections": [],
   "name": "Lesson1.ipynb",
   "provenance": []
  },
  "kernelspec": {
   "display_name": "Python 3",
   "language": "python",
   "name": "python3"
  },
  "language_info": {
   "codemirror_mode": {
    "name": "ipython",
    "version": 3
   },
   "file_extension": ".py",
   "mimetype": "text/x-python",
   "name": "python",
   "nbconvert_exporter": "python",
   "pygments_lexer": "ipython3",
   "version": "3.7.3"
  }
 },
 "nbformat": 4,
 "nbformat_minor": 1
}
